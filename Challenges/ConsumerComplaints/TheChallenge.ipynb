{
 "cells": [
  {
   "cell_type": "markdown",
   "id": "aa786d31",
   "metadata": {},
   "source": [
    "You are working with government agency as a data scientist. You have been supplied a data set with consumer complaints received by financial institutions in 2013-15.\n",
    "Your task is to upload the data into a database and perform some preliminary analysis \n",
    "- Find out how many complaints were received and sent on the same day \n",
    "- Extract the complaints received in the states of New York \n",
    "- Extract the complaints received in the states of New York and California \n",
    "- Extract all rules with the word Credit in the product field \n",
    "- Extract all rules with the word late in the issue field"
   ]
  }
 ],
 "metadata": {
  "kernelspec": {
   "display_name": "Python 3 (ipykernel)",
   "language": "python",
   "name": "python3"
  },
  "language_info": {
   "codemirror_mode": {
    "name": "ipython",
    "version": 3
   },
   "file_extension": ".py",
   "mimetype": "text/x-python",
   "name": "python",
   "nbconvert_exporter": "python",
   "pygments_lexer": "ipython3",
   "version": "3.9.13"
  }
 },
 "nbformat": 4,
 "nbformat_minor": 5
}
