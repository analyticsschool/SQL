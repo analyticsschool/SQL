{
 "cells": [
  {
   "cell_type": "markdown",
   "id": "31009f79",
   "metadata": {},
   "source": [
    "You are a data analyst assisting a veterinarian clinic to make sense of their data. Their data is dispersed across multiple CSV files and they need you to First upload all of them to database and then perform the following Analytics \n",
    "- Extract information on page names and owner names side by side  \n",
    "- Find out which pet from this Clinic had procedures performed \n",
    "- Matchup all procedures performed to their descriptions \n",
    "- Same as above but only for pets from the clinic in question \n",
    "- Extract a table of individual costs (procedure prices) incurred by owners of pets from the clinic in question (this table should have owner and procedure price side by side)"
   ]
  }
 ],
 "metadata": {
  "kernelspec": {
   "display_name": "Python 3 (ipykernel)",
   "language": "python",
   "name": "python3"
  },
  "language_info": {
   "codemirror_mode": {
    "name": "ipython",
    "version": 3
   },
   "file_extension": ".py",
   "mimetype": "text/x-python",
   "name": "python",
   "nbconvert_exporter": "python",
   "pygments_lexer": "ipython3",
   "version": "3.9.13"
  }
 },
 "nbformat": 4,
 "nbformat_minor": 5
}
