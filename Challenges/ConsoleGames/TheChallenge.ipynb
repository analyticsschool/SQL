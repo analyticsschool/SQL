{
 "cells": [
  {
   "cell_type": "markdown",
   "id": "7d6e3ade",
   "metadata": {},
   "source": [
    "You are an analytics consultant helping a console games company conduct market research you have been supplied a data set consisting of two files.\n",
    "- ConsoleGames.csv :- A history list of all console games released between 1980 and 2015 \n",
    "- ConsoleDates.csv :- A historic list of all console platforms(such as Wii,Playstation,Xbox) and information about them \n",
    "\n",
    "<br>\n",
    "\n",
    "You have been a tasked to perform the following Analytics:\n",
    "1. Calculate what percentage of global sales were made in North America \n",
    "2. Extract of view of the console game titles ordered by platform name in ascending order and year of release in descending order \n",
    "3. For each game title extract the first four letters of the Publishers name \n",
    "4. Display all control platforms which were released either just before Black Friday or just before Christmas in any year \n",
    "5. Order the platforms by their longevity in ascending order (i.e. The platform which was available for the longest at the bottom) \n",
    "6. Demonstrate how to deal with the game underscore year column if the client wants to convert it to a different data type number 7 provide recommendations on how to deal with missing data in the file"
   ]
  }
 ],
 "metadata": {
  "kernelspec": {
   "display_name": "Python 3 (ipykernel)",
   "language": "python",
   "name": "python3"
  },
  "language_info": {
   "codemirror_mode": {
    "name": "ipython",
    "version": 3
   },
   "file_extension": ".py",
   "mimetype": "text/x-python",
   "name": "python",
   "nbconvert_exporter": "python",
   "pygments_lexer": "ipython3",
   "version": "3.9.13"
  }
 },
 "nbformat": 4,
 "nbformat_minor": 5
}
